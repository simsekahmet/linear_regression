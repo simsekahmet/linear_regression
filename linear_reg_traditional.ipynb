{
  "nbformat": 4,
  "nbformat_minor": 0,
  "metadata": {
    "colab": {
      "provenance": [],
      "authorship_tag": "ABX9TyNkoattIPvGdBnm+L1ocZTS",
      "include_colab_link": true
    },
    "kernelspec": {
      "name": "python3",
      "display_name": "Python 3"
    },
    "language_info": {
      "name": "python"
    }
  },
  "cells": [
    {
      "cell_type": "markdown",
      "metadata": {
        "id": "view-in-github",
        "colab_type": "text"
      },
      "source": [
        "<a href=\"https://colab.research.google.com/github/simsekahmet/linear_regression/blob/main/linear_reg_traditional.ipynb\" target=\"_parent\"><img src=\"https://colab.research.google.com/assets/colab-badge.svg\" alt=\"Open In Colab\"/></a>"
      ]
    },
    {
      "cell_type": "markdown",
      "source": [
        "**Simple Linear Regression**"
      ],
      "metadata": {
        "id": "jNlIYGFTPl2Z"
      }
    },
    {
      "cell_type": "code",
      "execution_count": null,
      "metadata": {
        "id": "OpjazFZ4PdKO"
      },
      "outputs": [],
      "source": [
        "def simple_linear_regression(x1, y):\n",
        "    \"\"\"Simple Linear Regression with OLS and plot the model\n",
        "\n",
        "    --------------------\n",
        "    Args:\n",
        "        x1 (DataFrame): Independent numerical value.\n",
        "        y (DataFrame): Dependent numerical value.\n",
        "\n",
        "    --------------------\n",
        "    Returns:\n",
        "        dictionary = Parameters of model.\n",
        "\n",
        "    Notes:\n",
        "        y = b0 + b1 * x\n",
        "    \"\"\"\n",
        "\n",
        "    import statsmodels.api as sm\n",
        "    import pandas as pd\n",
        "    import seaborn as sns\n",
        "    sns.set()\n",
        "    import matplotlib.pyplot as plt\n",
        "\n",
        "    x = sm.add_constant(x1)\n",
        "    results = sm.OLS(y, x).fit()\n",
        "    print(\"summary of fitted model\", results.summary())\n",
        "\n",
        "    plt.scatter(x1, y, c=\"black\", marker = \"o\")\n",
        "\n",
        "    yhat = x1 * results.params[1] + results.params[0]\n",
        "    fig = plt.plot(x1, yhat, lw=4, c='green', label ='regression line')\n",
        "    plt.xlabel(pd.DataFrame(x1).columns[0], fontsize=20)\n",
        "    plt.ylabel(pd.DataFrame(y).columns[0], fontsize=20)\n",
        "    plt.show()\n",
        "\n",
        "    return results, {pd.DataFrame(x).columns[0] : round(results.params[1], 2), \"constant\": round(results.params[0], 2)}"
      ]
    },
    {
      "cell_type": "code",
      "source": [
        "import pandas as pd\n",
        "df = pd.read_csv(\"real_estate_price_size_year.csv\")\n",
        "simple_linear_regression(df[\"size\"], df[\"price\"])"
      ],
      "metadata": {
        "id": "vxxJtPjgPzEQ"
      },
      "execution_count": null,
      "outputs": []
    },
    {
      "cell_type": "markdown",
      "source": [
        "**Multiple Linear Regression**"
      ],
      "metadata": {
        "id": "lkOw70KqP1i1"
      }
    },
    {
      "cell_type": "code",
      "source": [
        "def multiple_linear_regression(x, y):\n",
        "    \"\"\"Multiple Linear Regression with OLS\n",
        "\n",
        "    --------------------\n",
        "    Args:\n",
        "        x (DataFrame): Independent numerical value.\n",
        "        y (DataFrame): Dependent numerical value.\n",
        "\n",
        "    --------------------\n",
        "    Returns:\n",
        "        dictionary = Parameters of model.\n",
        "\n",
        "    Notes:\n",
        "        y = b0 + b1 * x1 + b2 * x2 + ... + bn * xn\n",
        "\n",
        "    --------------------\n",
        "    Example:\n",
        "        x = df[[\"size\", \"year\"]]\n",
        "        y = df[\"price\"]\n",
        "    \"\"\"\n",
        "    import statsmodels.api as sm\n",
        "    import pandas as pd\n",
        "\n",
        "    x_ = sm.add_constant(x)\n",
        "    results = sm.OLS(y, x_).fit()\n",
        "    print(\"summary of fitted model\", results.summary())\n",
        "\n",
        "    return {pd.DataFrame(x).columns[0] : round(results.params[1], 2), pd.DataFrame(x).columns[1] : round(results.params[2], 2), \"constant\": round(results.params[0], 2)}"
      ],
      "metadata": {
        "id": "l5i6zT3xP4_6"
      },
      "execution_count": null,
      "outputs": []
    },
    {
      "cell_type": "code",
      "source": [
        "df = pd.read_csv(\"real_estate_price_size_year.csv\")\n",
        "multiple_linear_regression(df[[\"size\", \"year\"]], df[\"price\"])"
      ],
      "metadata": {
        "id": "T8O14PtPP_nU"
      },
      "execution_count": null,
      "outputs": []
    }
  ]
}