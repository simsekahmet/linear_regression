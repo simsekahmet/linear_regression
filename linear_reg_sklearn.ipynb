{
  "nbformat": 4,
  "nbformat_minor": 0,
  "metadata": {
    "colab": {
      "provenance": [],
      "authorship_tag": "ABX9TyOaf1Lc8mCYPlu3RT5kpyT+",
      "include_colab_link": true
    },
    "kernelspec": {
      "name": "python3",
      "display_name": "Python 3"
    },
    "language_info": {
      "name": "python"
    }
  },
  "cells": [
    {
      "cell_type": "markdown",
      "metadata": {
        "id": "view-in-github",
        "colab_type": "text"
      },
      "source": [
        "<a href=\"https://colab.research.google.com/github/simsekahmet/linear_regression/blob/main/linear_reg_sklearn.ipynb\" target=\"_parent\"><img src=\"https://colab.research.google.com/assets/colab-badge.svg\" alt=\"Open In Colab\"/></a>"
      ]
    },
    {
      "cell_type": "markdown",
      "source": [
        "**Simple Linear Regression**"
      ],
      "metadata": {
        "id": "9U5-ss01QV8r"
      }
    },
    {
      "cell_type": "code",
      "execution_count": null,
      "metadata": {
        "id": "U3pG36fUQNm1"
      },
      "outputs": [],
      "source": [
        "import numpy as np\n",
        "import pandas as pd\n",
        "from sklearn.linear_model import LinearRegression\n",
        "from sklearn.preprocessing import StandardScaler\n",
        "from sklearn.feature_selection import f_regression\n",
        "\n",
        "def simple_linear_regression(x, y, scale = False):\n",
        "    \"\"\"Simple Linear Regression with scikitlearn.\n",
        "\n",
        "    --------------------\n",
        "    Args:\n",
        "        x1 (DataFrame): Independent numerical value.\n",
        "        y (DataFrame): Dependent numerical value.\n",
        "        scale (bool, optional): StandardScaling. Defaults to False\n",
        "\n",
        "    --------------------\n",
        "    Returns:\n",
        "        DataFrame = Parameters of model.\n",
        "\n",
        "    --------------------\n",
        "    Notes:\n",
        "        y = b0 + b1 * x\n",
        "\n",
        "    --------------------\n",
        "    Example:\n",
        "        x = df[\"size\"]\n",
        "        y = df[\"price\"]\n",
        "    \"\"\"\n",
        "    if scale:\n",
        "        scaler = StandardScaler()\n",
        "        x_matrix = x.values.reshape(-1,1)\n",
        "        x_scaled = scaler.fit_transform(x_matrix)\n",
        "        x_matrix = x_scaled\n",
        "    else:\n",
        "        x_matrix = x.values.reshape(-1,1)\n",
        "\n",
        "    reg = LinearRegression().fit(x_matrix, y)\n",
        "\n",
        "    reg_summary = pd.DataFrame(data = pd.DataFrame(x).columns.values, columns=['Features'])\n",
        "    reg_summary['Coefficients'] = reg.coef_\n",
        "    reg_summary['Constant (Intercept)'] = reg.intercept_\n",
        "    reg_summary['F statistics'] = f_regression(x_matrix, y)[0].round(3)\n",
        "    reg_summary['p-values'] = f_regression(x_matrix, y)[1].round(3)\n",
        "    reg_summary['R-square'] = reg.score(x_matrix, y).round(3)\n",
        "\n",
        "    Adj_r2 = 1 - (1-reg.score(x_matrix, y)) * (len(y)-1)/(len(y)-x_matrix.shape[1]-1)\n",
        "    reg_summary['Adjusted R-square'] = Adj_r2.round(3)\n",
        "\n",
        "    return reg_summary"
      ]
    },
    {
      "cell_type": "code",
      "source": [
        "df = pd.read_csv(\"real_estate_price_size_year.csv\")\n",
        "simple_linear_regression(df[\"size\"], df[\"price\"], scale = True)"
      ],
      "metadata": {
        "id": "U1dUrntTQcN4"
      },
      "execution_count": null,
      "outputs": []
    },
    {
      "cell_type": "markdown",
      "source": [
        "**Multiple Linear Regression**"
      ],
      "metadata": {
        "id": "B0RhtIjeQcnx"
      }
    },
    {
      "cell_type": "code",
      "source": [
        "import numpy as np\n",
        "import pandas as pd\n",
        "from sklearn.linear_model import LinearRegression\n",
        "from sklearn.preprocessing import StandardScaler\n",
        "from sklearn.feature_selection import f_regression\n",
        "\n",
        "def multiple_linear_regression(x, y, scale = False):\n",
        "    \"\"\"Multiple Linear Regression with scikitlearn\n",
        "\n",
        "    --------------------\n",
        "    Args:\n",
        "        x (DataFrame): Independent numerical value.\n",
        "        y (DataFrame): Dependent numerical value.\n",
        "        scale (bool, optional): StandardScaling. Defaults to False\n",
        "\n",
        "    --------------------\n",
        "    Returns:\n",
        "        DataFrame = Parameters of model.\n",
        "\n",
        "    Notes:\n",
        "        y = b0 + b1 * x1 + b2 * x2 + ... + bn * xn\n",
        "\n",
        "    --------------------\n",
        "    Example:\n",
        "        x = df[[\"size\", \"year\"]]\n",
        "        y = df[\"price\"]\n",
        "    \"\"\"\n",
        "    if scale:\n",
        "        scaler = StandardScaler()\n",
        "        x_scaled = scaler.fit_transform(x)\n",
        "        x_ = x_scaled\n",
        "    else:\n",
        "        x_ = x\n",
        "\n",
        "    reg = LinearRegression().fit(x_, y)\n",
        "\n",
        "    reg_summary = pd.DataFrame(data = pd.DataFrame(x).columns.values, columns=['Features'])\n",
        "    reg_summary['Coefficients'] = reg.coef_\n",
        "    reg_summary['Constant (Intercept)'] = reg.intercept_\n",
        "    reg_summary['F statistics'] = f_regression(x_, y)[0].round(3)\n",
        "    reg_summary['p-values'] = f_regression(x_, y)[1].round(3)\n",
        "    reg_summary['R-square'] = reg.score(x_, y).round(3)\n",
        "\n",
        "    Adj_r2 = 1 - (1-reg.score(x_, y)) * (len(y)-1)/(len(y)-x_.shape[1]-1)\n",
        "    reg_summary['Adjusted R-square'] = Adj_r2.round(3)\n",
        "\n",
        "    return reg_summary"
      ],
      "metadata": {
        "id": "PDnp_W4eQfll"
      },
      "execution_count": null,
      "outputs": []
    },
    {
      "cell_type": "code",
      "source": [
        "df2 = pd.read_csv(\"real_estate_price_size_year.csv\")\n",
        "multiple_linear_regression(df2[[\"size\", \"year\"]], df2[\"price\"])"
      ],
      "metadata": {
        "id": "r7Uud7AcQi-r"
      },
      "execution_count": null,
      "outputs": []
    }
  ]
}